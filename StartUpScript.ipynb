{
 "cells": [
  {
   "cell_type": "code",
   "execution_count": null,
   "id": "assigned-enclosure",
   "metadata": {},
   "outputs": [],
   "source": [
    "#To download file from wetransfer"
   ]
  },
  {
   "cell_type": "code",
   "execution_count": null,
   "id": "changed-trailer",
   "metadata": {},
   "outputs": [
    {
     "name": "stdout",
     "output_type": "stream",
     "text": [
      "  % Total    % Received % Xferd  Average Speed   Time    Time     Time  Current\n",
      "                                 Dload  Upload   Total   Spent    Left  Speed\n",
      " 28 1454M   28  414M    0     0  2226k      0  0:11:08  0:03:10  0:07:58 3186k    0  0:12:56  0:01:29  0:11:27 2345k:11:20 2039k 0     0  1974k      0  0:12:34  0:01:38  0:10:56 2837k    0  1992k      0  0:12:27  0:01:40  0:10:47 3281k9 2063k"
     ]
    }
   ],
   "source": [
    "!curl 'https://download.wetransfer.com//eu2/cb20949fa84b01f9ef325c3b8107275920210220152757/fb5d9d03be35ab2c8954da04dc3bb40928d3846c/celeba2.zip?cf=y&token=eyJhbGciOiJIUzI1NiJ9.eyJleHAiOjE2MTM4NDI5NDMsInVuaXF1ZSI6ImNiMjA5NDlmYTg0YjAxZjllZjMyNWMzYjgxMDcyNzU5MjAyMTAyMjAxNTI3NTciLCJmaWxlbmFtZSI6ImNlbGViYTIuemlwIiwid2F5YmlsbF91cmwiOiJodHRwOi8vcHJvZHVjdGlvbi5iYWNrZW5kLnNlcnZpY2UuZXUtd2VzdC0xLnd0OjkyOTIvd2F5YmlsbC92MS9zYXJrYXIvNjJhNjIwMzMzOGI3MDQ4MDBkOTc0NTczOTdhOTlkMWNlZmEzOTViZDYwODgzMDdlNGVkYmViN2I2ZDkyMmYzOGI1MDllNGRlNjdkZDQ4MjQzYTQ1MGMiLCJmaW5nZXJwcmludCI6ImZiNWQ5ZDAzYmUzNWFiMmM4OTU0ZGEwNGRjM2JiNDA5MjhkMzg0NmMiLCJjYWxsYmFjayI6IntcImZvcm1kYXRhXCI6e1wiYWN0aW9uXCI6XCJodHRwOi8vcHJvZHVjdGlvbi5mcm9udGVuZC5zZXJ2aWNlLmV1LXdlc3QtMS53dDozMDAwL3dlYmhvb2tzL2JhY2tlbmRcIn0sXCJmb3JtXCI6e1widHJhbnNmZXJfaWRcIjpcImNiMjA5NDlmYTg0YjAxZjllZjMyNWMzYjgxMDcyNzU5MjAyMTAyMjAxNTI3NTdcIixcImRvd25sb2FkX2lkXCI6MTE0OTc2MTk0MjB9fSJ9.K8a1s6ieGO6M0PL8Tg1ZeJTzWEbS2hf9V7npX6g8JLs' --location --output celeba2.zip"
   ]
  },
  {
   "cell_type": "code",
   "execution_count": null,
   "id": "neural-prerequisite",
   "metadata": {},
   "outputs": [],
   "source": [
    "# To unzip file\n",
    "!apt-get update\n",
    "!apt-get -y install curl\n",
    "\n",
    "\n",
    "\n",
    "!apt install unzip -qq\n",
    "!unzip -qq celeba2.zip\n",
    "!unzip deep-learning-fairness-light.zip"
   ]
  },
  {
   "cell_type": "code",
   "execution_count": null,
   "id": "dependent-pastor",
   "metadata": {},
   "outputs": [],
   "source": [
    "!pip install absl-py\n",
    "!pip install matplotlib\n",
    "!pip install scipy\n",
    "!pip install tensorboardX\n",
    "!pip install sklearn"
   ]
  }
 ],
 "metadata": {
  "kernelspec": {
   "display_name": "Python 3",
   "language": "python",
   "name": "python3"
  },
  "language_info": {
   "codemirror_mode": {
    "name": "ipython",
    "version": 3
   },
   "file_extension": ".py",
   "mimetype": "text/x-python",
   "name": "python",
   "nbconvert_exporter": "python",
   "pygments_lexer": "ipython3",
   "version": "3.7.9"
  }
 },
 "nbformat": 4,
 "nbformat_minor": 5
}
