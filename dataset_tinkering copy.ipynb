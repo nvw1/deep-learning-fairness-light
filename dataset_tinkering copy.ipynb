{
 "cells": [
  {
   "cell_type": "code",
   "execution_count": 1,
   "metadata": {},
   "outputs": [],
   "source": [
    "import pandas as pd\n",
    "import numpy as np\n",
    "from sklearn.utils import resample\n",
    "\n",
    "SEED = 1234"
   ]
  },
  {
   "cell_type": "code",
   "execution_count": 2,
   "metadata": {},
   "outputs": [
    {
     "output_type": "execute_result",
     "data": {
      "text/plain": [
       "     image_id  5_o_Clock_Shadow  Arched_Eyebrows  Attractive  Bags_Under_Eyes  \\\n",
       "0  000001.jpg                -1                1           1               -1   \n",
       "1  000002.jpg                -1               -1          -1                1   \n",
       "2  000003.jpg                -1               -1          -1               -1   \n",
       "3  000004.jpg                -1               -1           1               -1   \n",
       "4  000005.jpg                -1                1           1               -1   \n",
       "\n",
       "   Bald  Bangs  Big_Lips  Big_Nose  Black_Hair  ...  Sideburns  Smiling  \\\n",
       "0    -1     -1        -1        -1          -1  ...         -1        1   \n",
       "1    -1     -1        -1         1          -1  ...         -1        1   \n",
       "2    -1     -1         1        -1          -1  ...         -1       -1   \n",
       "3    -1     -1        -1        -1          -1  ...         -1       -1   \n",
       "4    -1     -1         1        -1          -1  ...         -1       -1   \n",
       "\n",
       "   Straight_Hair  Wavy_Hair  Wearing_Earrings  Wearing_Hat  Wearing_Lipstick  \\\n",
       "0              1         -1                 1           -1                 1   \n",
       "1             -1         -1                -1           -1                -1   \n",
       "2             -1          1                -1           -1                -1   \n",
       "3              1         -1                 1           -1                 1   \n",
       "4             -1         -1                -1           -1                 1   \n",
       "\n",
       "   Wearing_Necklace  Wearing_Necktie  Young  \n",
       "0                -1               -1      1  \n",
       "1                -1               -1      1  \n",
       "2                -1               -1      1  \n",
       "3                 1               -1      1  \n",
       "4                -1               -1      1  \n",
       "\n",
       "[5 rows x 41 columns]"
      ],
      "text/html": "<div>\n<style scoped>\n    .dataframe tbody tr th:only-of-type {\n        vertical-align: middle;\n    }\n\n    .dataframe tbody tr th {\n        vertical-align: top;\n    }\n\n    .dataframe thead th {\n        text-align: right;\n    }\n</style>\n<table border=\"1\" class=\"dataframe\">\n  <thead>\n    <tr style=\"text-align: right;\">\n      <th></th>\n      <th>image_id</th>\n      <th>5_o_Clock_Shadow</th>\n      <th>Arched_Eyebrows</th>\n      <th>Attractive</th>\n      <th>Bags_Under_Eyes</th>\n      <th>Bald</th>\n      <th>Bangs</th>\n      <th>Big_Lips</th>\n      <th>Big_Nose</th>\n      <th>Black_Hair</th>\n      <th>...</th>\n      <th>Sideburns</th>\n      <th>Smiling</th>\n      <th>Straight_Hair</th>\n      <th>Wavy_Hair</th>\n      <th>Wearing_Earrings</th>\n      <th>Wearing_Hat</th>\n      <th>Wearing_Lipstick</th>\n      <th>Wearing_Necklace</th>\n      <th>Wearing_Necktie</th>\n      <th>Young</th>\n    </tr>\n  </thead>\n  <tbody>\n    <tr>\n      <th>0</th>\n      <td>000001.jpg</td>\n      <td>-1</td>\n      <td>1</td>\n      <td>1</td>\n      <td>-1</td>\n      <td>-1</td>\n      <td>-1</td>\n      <td>-1</td>\n      <td>-1</td>\n      <td>-1</td>\n      <td>...</td>\n      <td>-1</td>\n      <td>1</td>\n      <td>1</td>\n      <td>-1</td>\n      <td>1</td>\n      <td>-1</td>\n      <td>1</td>\n      <td>-1</td>\n      <td>-1</td>\n      <td>1</td>\n    </tr>\n    <tr>\n      <th>1</th>\n      <td>000002.jpg</td>\n      <td>-1</td>\n      <td>-1</td>\n      <td>-1</td>\n      <td>1</td>\n      <td>-1</td>\n      <td>-1</td>\n      <td>-1</td>\n      <td>1</td>\n      <td>-1</td>\n      <td>...</td>\n      <td>-1</td>\n      <td>1</td>\n      <td>-1</td>\n      <td>-1</td>\n      <td>-1</td>\n      <td>-1</td>\n      <td>-1</td>\n      <td>-1</td>\n      <td>-1</td>\n      <td>1</td>\n    </tr>\n    <tr>\n      <th>2</th>\n      <td>000003.jpg</td>\n      <td>-1</td>\n      <td>-1</td>\n      <td>-1</td>\n      <td>-1</td>\n      <td>-1</td>\n      <td>-1</td>\n      <td>1</td>\n      <td>-1</td>\n      <td>-1</td>\n      <td>...</td>\n      <td>-1</td>\n      <td>-1</td>\n      <td>-1</td>\n      <td>1</td>\n      <td>-1</td>\n      <td>-1</td>\n      <td>-1</td>\n      <td>-1</td>\n      <td>-1</td>\n      <td>1</td>\n    </tr>\n    <tr>\n      <th>3</th>\n      <td>000004.jpg</td>\n      <td>-1</td>\n      <td>-1</td>\n      <td>1</td>\n      <td>-1</td>\n      <td>-1</td>\n      <td>-1</td>\n      <td>-1</td>\n      <td>-1</td>\n      <td>-1</td>\n      <td>...</td>\n      <td>-1</td>\n      <td>-1</td>\n      <td>1</td>\n      <td>-1</td>\n      <td>1</td>\n      <td>-1</td>\n      <td>1</td>\n      <td>1</td>\n      <td>-1</td>\n      <td>1</td>\n    </tr>\n    <tr>\n      <th>4</th>\n      <td>000005.jpg</td>\n      <td>-1</td>\n      <td>1</td>\n      <td>1</td>\n      <td>-1</td>\n      <td>-1</td>\n      <td>-1</td>\n      <td>1</td>\n      <td>-1</td>\n      <td>-1</td>\n      <td>...</td>\n      <td>-1</td>\n      <td>-1</td>\n      <td>-1</td>\n      <td>-1</td>\n      <td>-1</td>\n      <td>-1</td>\n      <td>1</td>\n      <td>-1</td>\n      <td>-1</td>\n      <td>1</td>\n    </tr>\n  </tbody>\n</table>\n<p>5 rows × 41 columns</p>\n</div>"
     },
     "metadata": {},
     "execution_count": 2
    }
   ],
   "source": [
    "df = pd.read_csv('/Users/nvw3/Downloads/celeba/list_attr_celeba.csv')\n",
    "df.head()"
   ]
  },
  {
   "cell_type": "code",
   "execution_count": 3,
   "metadata": {},
   "outputs": [
    {
     "output_type": "stream",
     "name": "stdout",
     "text": [
      "Length of smiling: 97669 (0.48208036564839907) \nLength of non-smiling: 104930 (0.5179196343516009) \n"
     ]
    }
   ],
   "source": [
    "df_smiling = df[df['Smiling'] == 1]\n",
    "df_non_smiling = df[df['Smiling'] == -1]\n",
    "print(f\"\"\"Length of smiling: {len(df_smiling)} ({len(df_smiling) / len(df)}) \n",
    "Length of non-smiling: {len(df_non_smiling)} ({len(df_non_smiling) / len(df)}) \"\"\")"
   ]
  },
  {
   "cell_type": "code",
   "execution_count": 4,
   "metadata": {},
   "outputs": [
    {
     "output_type": "stream",
     "name": "stdout",
     "text": [
      "Length of male: 84434 (0.41675427815537097) \nLength of female: 118165 (0.5832457218446291) \n"
     ]
    }
   ],
   "source": [
    "# Now need to generate indices with different levels of gender imbalance.\n",
    "df_male = df[df['Male'] == 1]\n",
    "df_female = df[df['Male'] == -1]\n",
    "print(f\"\"\"Length of male: {len(df_male)} ({len(df_male) / len(df)}) \n",
    "Length of female: {len(df_female)} ({len(df_female) / len(df)}) \"\"\")"
   ]
  },
  {
   "cell_type": "code",
   "execution_count": 16,
   "metadata": {},
   "outputs": [
    {
     "output_type": "stream",
     "name": "stdout",
     "text": [
      "male smile, female smile, male no smile,female no smile: 33798 63871 50636 54294\n"
     ]
    }
   ],
   "source": [
    "df_male_smiling = df[(df['Male'] == 1) & (df['Smiling'] == 1)]\n",
    "df_female_smiling = df[(df['Male'] == -1) & (df['Smiling'] == 1)]\n",
    "\n",
    "df_male_not_smiling = df[(df['Male'] == 1) & (df['Smiling'] == -1)]\n",
    "df_female_not_smiling = df[(df['Male'] == -1) & (df['Smiling'] == -1)]\n",
    "\n",
    "print(\"male smile, female smile, male no smile,female no smile:\",len(df_male_smiling),len(df_female_smiling),len(df_male_not_smiling),len(df_female_not_smiling))"
   ]
  },
  {
   "cell_type": "code",
   "execution_count": 20,
   "metadata": {},
   "outputs": [],
   "source": [
    "# Going to use a dataset of 30,000 images\n",
    "# 15,000 smiling, 15,000 non-smiling\n",
    "# Going to create 6 different datasets with differing levels of gender imbalance\n",
    "# But 50/50 smiling vs non smiling\n",
    "\n",
    "def rebalance_dataset(females, males, df):\n",
    "    df_male_smiling = df[(df['Male'] == 1) & (df['Smiling'] == 1)]\n",
    "    df_female_smiling = df[(df['Male'] == -1) & (df['Smiling'] == 1)]\n",
    "\n",
    "    df_male_not_smiling = df[(df['Male'] == 1) & (df['Smiling'] == -1)]\n",
    "    df_female_not_smiling = df[(df['Male'] == -1) & (df['Smiling'] == -1)]\n",
    "    \"\"\"\n",
    "    splitting data and ensureing that each group has the same amount by picking half samples from      each group\n",
    "    TODO check why this wastn the case in the end though\n",
    "    \"\"\"\n",
    "    \n",
    "    if females > 0:\n",
    "        rebalance_df_female_smiling = resample(df_female_smiling,\n",
    "                                              replace=False,\n",
    "                                              n_samples=int(females/2),\n",
    "                                              random_state=SEED)\n",
    "        \n",
    "        rebalance_df_female_not_smiling = resample(df_female_not_smiling,\n",
    "                                                  replace=False,\n",
    "                                                  n_samples=int(females/2),\n",
    "                                                  random_state=SEED)\n",
    "    \n",
    "    if males > 0:\n",
    "        rebalance_df_male_smiling = resample(df_male_smiling,\n",
    "                                              replace=False,\n",
    "                                              n_samples=int(males/2),\n",
    "                                              random_state=SEED)\n",
    "        \n",
    "        rebalance_df_male_not_smiling = resample(df_male_not_smiling,\n",
    "                                                  replace=False,\n",
    "                                                  n_samples=int(males/2),\n",
    "                                                  random_state=SEED)\n",
    "    if females == 0:\n",
    "        rebalance_df = pd.concat([rebalance_df_male_smiling, rebalance_df_male_not_smiling])\n",
    "        return rebalance_df\n",
    "        \n",
    "    elif males == 0:\n",
    "        rebalance_df = pd.concat([rebalance_df_female_smiling, rebalance_df_female_not_smiling])\n",
    "        return rebalance_df\n",
    "        \n",
    "    else:\n",
    "        #Here they are probabbly added in oder\n",
    "        rebalance_df = pd.concat([rebalance_df_male_smiling, rebalance_df_male_not_smiling,\n",
    "                                  rebalance_df_female_smiling, rebalance_df_female_not_smiling])\n",
    "        \n",
    "        return rebalance_df\n",
    "\n",
    "\n",
    "def test_rebalance(females, males, df):\n",
    "    assert len(df[df['Male'] == -1]) == females\n",
    "    assert len(df[df['Male'] == 1]) == males\n",
    "    \n",
    "    assert len(df[df['Smiling'] == -1]) == 15000 #Stopped assertion for small dataset\n",
    "    assert len(df[df['Smiling'] == 1]) == 15000 # Checking its balanced\n",
    "    \n",
    "SAVE_FOLDER = '/Users/nvw3/Downloads/celeba/imbalanced_attr'\n",
    "    \n",
    "# 100% female, 0% male.\n",
    "# 30000 female, 0 male.\n",
    "df_30k_female = rebalance_dataset(females=30000, males=0, df=df)\n",
    "test_rebalance(females=30000, males=0, df=df_30k_female)\n",
    "df_30k_female.to_csv(f'{SAVE_FOLDER}/30k_female.csv', index=False)\n",
    "\n",
    "#----- new addition below----\n",
    "# 99.9% female, 0.1% male\n",
    "# 29970 female, 30 male\n",
    "df_29k97_female = rebalance_dataset(females=29970, males=30, df=df)\n",
    "test_rebalance(females=29970, males=30, df=df_29k97_female)\n",
    "df_29k97_female.to_csv(f'{SAVE_FOLDER}/29k97_female.csv', index=False)\n",
    "\n",
    "# 99% female, 1% male\n",
    "# 29700 female, 300 male\n",
    "df_29k_female = rebalance_dataset(females=29700, males=300, df=df)\n",
    "test_rebalance(females=29700, males=300, df=df_29k_female)\n",
    "df_29k_female.to_csv(f'{SAVE_FOLDER}/29k_female.csv', index=False)\n",
    "\n",
    "# 98% female, 2% male\n",
    "female_n = 29400\n",
    "male_n = 600\n",
    "df_98i_female = rebalance_dataset(females=female_n, males=male_n, df=df)\n",
    "test_rebalance(females=female_n, males=male_n, df=df_98i_female)\n",
    "df_98i_female.to_csv(f'{SAVE_FOLDER}/98i_female.csv', index=False)\n",
    "\n",
    "# 96% female, 4% male\n",
    "female_n = 28800\n",
    "male_n = 1200\n",
    "df_96i_female = rebalance_dataset(females=female_n, males=male_n, df=df)\n",
    "test_rebalance(females=female_n, males=male_n, df=df_96i_female)\n",
    "df_96i_female.to_csv(f'{SAVE_FOLDER}/96i_female.csv', index=False)\n",
    "\n",
    "# 95% female, 5% male\n",
    "female_n = 28500\n",
    "male_n = 1500\n",
    "df_95i_female = rebalance_dataset(females=female_n, males=male_n, df=df)\n",
    "test_rebalance(females=female_n, males=male_n, df=df_95i_female)\n",
    "df_95i_female.to_csv(f'{SAVE_FOLDER}/95i_female.csv', index=False)\n",
    "\n",
    "# 94% female, 6% male\n",
    "female_n = 28200\n",
    "male_n = 1800\n",
    "df_94i_female = rebalance_dataset(females=female_n, males=male_n, df=df)\n",
    "test_rebalance(females=female_n, males=male_n, df=df_94i_female)\n",
    "df_94i_female.to_csv(f'{SAVE_FOLDER}/94i_female.csv', index=False)\n",
    "\n",
    "# 92% female, 8% male\n",
    "female_n = 27600\n",
    "male_n = 2400\n",
    "df_92i_female = rebalance_dataset(females=female_n, males=male_n, df=df)\n",
    "test_rebalance(females=female_n, males=male_n, df=df_92i_female)\n",
    "df_92i_female.to_csv(f'{SAVE_FOLDER}/92i_female.csv', index=False)\n",
    "\n",
    "\n",
    "#----- new addition end ------ \n",
    "\n",
    "# 90% female, 10% male.\n",
    "# 27000 female, 3000 male.\n",
    "df_27k_female = rebalance_dataset(females=27000, males=3000, df=df)\n",
    "test_rebalance(females=27000, males=3000, df=df_27k_female)\n",
    "df_27k_female.to_csv(f'{SAVE_FOLDER}/27k_female.csv', index=False)\n",
    "\n",
    "\n",
    "#------ new addition start -----\n",
    "# 85% female, 15% male\n",
    "female_n = 25500\n",
    "male_n = 4500\n",
    "df_85i_female = rebalance_dataset(females=female_n, males=male_n, df=df)\n",
    "test_rebalance(females=female_n, males=male_n, df=df_85i_female)\n",
    "df_85i_female.to_csv(f'{SAVE_FOLDER}/85i_female.csv', index=False)\n",
    "#------ new addition end   -----\n",
    "\n",
    "# 80% female, 20% male.\n",
    "# 24000 female, 6000 male.\n",
    "df_24k_female = rebalance_dataset(females=24000, males=6000, df=df)\n",
    "test_rebalance(females=24000, males=6000, df=df_24k_female)\n",
    "df_24k_female.to_csv(f'{SAVE_FOLDER}/24k_female.csv', index=False)\n",
    "\n",
    "# 70% female, 30% male.\n",
    "# 21000 female, 9000 male.\n",
    "df_21k_female = rebalance_dataset(females=21000, males=9000, df=df)\n",
    "test_rebalance(females=21000, males=9000, df=df_21k_female)\n",
    "df_21k_female.to_csv(f'{SAVE_FOLDER}/21k_female.csv', index=False)\n",
    "\n",
    "# 60% female, 40% male.\n",
    "# 18000 female, 12000 male.\n",
    "df_18k_female = rebalance_dataset(females=18000, males=12000, df=df)\n",
    "test_rebalance(females=18000, males=12000, df=df_18k_female)\n",
    "df_18k_female.to_csv(f'{SAVE_FOLDER}/18k_female.csv', index=False)\n",
    "\n",
    "# 50% female, 50% male.\n",
    "# 15000 female, 15000 male.\n",
    "df_15k_female = rebalance_dataset(females=15000, males=15000, df=df)\n",
    "test_rebalance(females=15000, males=15000, df=df_15k_female)\n",
    "df_15k_female.to_csv(f'{SAVE_FOLDER}/15k_female.csv', index=False)\n",
    "\n",
    "\n",
    "\n",
    "#The following are smaller versions of the bigger datasets to replicate results but in faster\n",
    "\n",
    "\n",
    "# 100% female, 0% male.\n",
    "# 30000 female, 0 male.\n",
    "# df_30k_female = rebalance_dataset(females=29700, males=300, df=df)\n",
    "# test_rebalance(females=30000, males=0, df=df_30k_female)\n",
    "# df_30k_female.to_csv(f'{SAVE_FOLDER}/30k_female.csv', index=False)\n",
    "\n",
    "# # 90% female, 10% male.\n",
    "# # 270 female, 30 male.\n",
    "# df_270_female = rebalance_dataset(females=270, males=30, df=df)\n",
    "# test_rebalance(females=270, males=30, df=df_270_female)\n",
    "# df_270_female.to_csv(f'{SAVE_FOLDER}/270_female.csv', index=False)\n",
    "\n",
    "# # 90% female, 10% male.\n",
    "# # 270 female, 30 male.\n",
    "# df_2700_female = rebalance_dataset(females=2700, males=300, df=df)\n",
    "# test_rebalance(females=2700, males=300, df=df_2700_female)\n",
    "# df_2700_female.to_csv(f'{SAVE_FOLDER}/2700_female.csv', index=False)\n",
    "\n",
    "\n",
    "#TESTING\n",
    "\n",
    "# 95% female, 5% male.\n",
    "# 270 female, 30 male.\n",
    "#test_rebalance(females=2000, males=1000, df=df_29000_female)\n",
    "\n",
    "\n",
    "df_21k_female_half = rebalance_dataset(females=10500, males=4500, df=df)\n",
    "\n",
    "df_21k_female_half.to_csv(f'{SAVE_FOLDER}/21k_female_half.csv', index=False)\n"
   ]
  },
  {
   "cell_type": "code",
   "execution_count": 17,
   "metadata": {},
   "outputs": [
    {
     "output_type": "error",
     "ename": "NameError",
     "evalue": "name 'df_29000_female' is not defined",
     "traceback": [
      "\u001b[0;31m---------------------------------------------------------------------------\u001b[0m",
      "\u001b[0;31mNameError\u001b[0m                                 Traceback (most recent call last)",
      "\u001b[0;32m<ipython-input-17-e3f046844de7>\u001b[0m in \u001b[0;36m<module>\u001b[0;34m\u001b[0m\n\u001b[0;32m----> 1\u001b[0;31m \u001b[0mdf_29000_female\u001b[0m\u001b[0;34m\u001b[0m\u001b[0;34m\u001b[0m\u001b[0m\n\u001b[0m",
      "\u001b[0;31mNameError\u001b[0m: name 'df_29000_female' is not defined"
     ]
    }
   ],
   "source": [
    "df_29000_female"
   ]
  },
  {
   "cell_type": "code",
   "execution_count": 502,
   "metadata": {},
   "outputs": [],
   "source": [
    "# Now need to generate indices with different levels of gender imbalance.\n",
    "# df_male = df_balanced[df_balanced['Male'] == 1]\n",
    "# df_female = df_balanced[df_balanced['Male'] == -1]\n",
    "# print(f\"\"\"Length of male: {len(df_male)} ({len(df_male) / len(df_balanced)}) \n",
    "# Length of female: {len(df_female)} ({len(df_female) / len(df_balanced)}) \"\"\")"
   ]
  },
  {
   "cell_type": "code",
   "execution_count": 503,
   "metadata": {},
   "outputs": [
    {
     "output_type": "execute_result",
     "data": {
      "text/plain": [
       "          image_id  partition\n",
       "0       000001.jpg          0\n",
       "1       000002.jpg          0\n",
       "2       000003.jpg          0\n",
       "3       000004.jpg          0\n",
       "4       000005.jpg          0\n",
       "...            ...        ...\n",
       "202594  202595.jpg          2\n",
       "202595  202596.jpg          2\n",
       "202596  202597.jpg          2\n",
       "202597  202598.jpg          2\n",
       "202598  202599.jpg          2\n",
       "\n",
       "[202599 rows x 2 columns]"
      ],
      "text/html": "<div>\n<style scoped>\n    .dataframe tbody tr th:only-of-type {\n        vertical-align: middle;\n    }\n\n    .dataframe tbody tr th {\n        vertical-align: top;\n    }\n\n    .dataframe thead th {\n        text-align: right;\n    }\n</style>\n<table border=\"1\" class=\"dataframe\">\n  <thead>\n    <tr style=\"text-align: right;\">\n      <th></th>\n      <th>image_id</th>\n      <th>partition</th>\n    </tr>\n  </thead>\n  <tbody>\n    <tr>\n      <th>0</th>\n      <td>000001.jpg</td>\n      <td>0</td>\n    </tr>\n    <tr>\n      <th>1</th>\n      <td>000002.jpg</td>\n      <td>0</td>\n    </tr>\n    <tr>\n      <th>2</th>\n      <td>000003.jpg</td>\n      <td>0</td>\n    </tr>\n    <tr>\n      <th>3</th>\n      <td>000004.jpg</td>\n      <td>0</td>\n    </tr>\n    <tr>\n      <th>4</th>\n      <td>000005.jpg</td>\n      <td>0</td>\n    </tr>\n    <tr>\n      <th>...</th>\n      <td>...</td>\n      <td>...</td>\n    </tr>\n    <tr>\n      <th>202594</th>\n      <td>202595.jpg</td>\n      <td>2</td>\n    </tr>\n    <tr>\n      <th>202595</th>\n      <td>202596.jpg</td>\n      <td>2</td>\n    </tr>\n    <tr>\n      <th>202596</th>\n      <td>202597.jpg</td>\n      <td>2</td>\n    </tr>\n    <tr>\n      <th>202597</th>\n      <td>202598.jpg</td>\n      <td>2</td>\n    </tr>\n    <tr>\n      <th>202598</th>\n      <td>202599.jpg</td>\n      <td>2</td>\n    </tr>\n  </tbody>\n</table>\n<p>202599 rows × 2 columns</p>\n</div>"
     },
     "metadata": {},
     "execution_count": 503
    }
   ],
   "source": [
    "partition = pd.read_csv('/Users/nvw3/Downloads/celeba/list_eval_partition.csv')\n",
    "partition"
   ]
  },
  {
   "cell_type": "code",
   "execution_count": 504,
   "metadata": {},
   "outputs": [
    {
     "output_type": "execute_result",
     "data": {
      "text/plain": [
       "0    162770\n",
       "2     19962\n",
       "1     19867\n",
       "Name: partition, dtype: int64"
      ]
     },
     "metadata": {},
     "execution_count": 504
    }
   ],
   "source": [
    "partition['partition'].value_counts()"
   ]
  },
  {
   "cell_type": "code",
   "execution_count": 505,
   "metadata": {},
   "outputs": [
    {
     "output_type": "execute_result",
     "data": {
      "text/plain": [
       "Index(['image_id', '5_o_Clock_Shadow', 'Arched_Eyebrows', 'Attractive',\n",
       "       'Bags_Under_Eyes', 'Bald', 'Bangs', 'Big_Lips', 'Big_Nose',\n",
       "       'Black_Hair', 'Blond_Hair', 'Blurry', 'Brown_Hair', 'Bushy_Eyebrows',\n",
       "       'Chubby', 'Double_Chin', 'Eyeglasses', 'Goatee', 'Gray_Hair',\n",
       "       'Heavy_Makeup', 'High_Cheekbones', 'Male', 'Mouth_Slightly_Open',\n",
       "       'Mustache', 'Narrow_Eyes', 'No_Beard', 'Oval_Face', 'Pale_Skin',\n",
       "       'Pointy_Nose', 'Receding_Hairline', 'Rosy_Cheeks', 'Sideburns',\n",
       "       'Smiling', 'Straight_Hair', 'Wavy_Hair', 'Wearing_Earrings',\n",
       "       'Wearing_Hat', 'Wearing_Lipstick', 'Wearing_Necklace',\n",
       "       'Wearing_Necktie', 'Young'],\n",
       "      dtype='object')"
      ]
     },
     "metadata": {},
     "execution_count": 505
    }
   ],
   "source": [
    "df.columns"
   ]
  },
  {
   "cell_type": "code",
   "execution_count": 506,
   "metadata": {},
   "outputs": [
    {
     "output_type": "stream",
     "name": "stdout",
     "text": [
      "0 0\n1 1\n"
     ]
    }
   ],
   "source": [
    "for i, name in enumerate([0, 1]):\n",
    "    print(i, name)"
   ]
  },
  {
   "cell_type": "code",
   "execution_count": 507,
   "metadata": {},
   "outputs": [],
   "source": [
    "males = df[df['Male'] == 1]\n",
    "females = df[df['Male'] == -1]"
   ]
  },
  {
   "cell_type": "code",
   "execution_count": 508,
   "metadata": {},
   "outputs": [],
   "source": [
    "young_males = df[(df['Male'] == 1) & (df['Young'] == 1)]\n",
    "old_males = df[(df['Male'] == 1) & (df['Young'] == -1)]\n",
    "young_females = df[(df['Male'] == -1) & (df['Young'] == 1)]\n",
    "old_females = df[(df['Male'] == -1) & (df['Young'] == -1)]"
   ]
  },
  {
   "cell_type": "code",
   "execution_count": 509,
   "metadata": {},
   "outputs": [
    {
     "output_type": "stream",
     "name": "stdout",
     "text": [
      "Young males: 53447\nOld males: 30987\nYoung females: 103287\nOld females: 14878\n"
     ]
    }
   ],
   "source": [
    "print(f\"\"\"Young males: {len(young_males)}\n",
    "Old males: {len(old_males)}\n",
    "Young females: {len(young_females)}\n",
    "Old females: {len(old_females)}\"\"\")"
   ]
  },
  {
   "cell_type": "code",
   "execution_count": 510,
   "metadata": {},
   "outputs": [
    {
     "output_type": "execute_result",
     "data": {
      "text/plain": [
       "0.773616849046639"
      ]
     },
     "metadata": {},
     "execution_count": 510
    }
   ],
   "source": [
    "156734 / (156734 + 45865) # this means overly young people..and\n",
    "# Could age have an effect aswell?"
   ]
  },
  {
   "cell_type": "code",
   "execution_count": 511,
   "metadata": {},
   "outputs": [
    {
     "output_type": "execute_result",
     "data": {
      "text/plain": [
       "-1    192781\n",
       " 1      9818\n",
       "Name: Wearing_Hat, dtype: int64"
      ]
     },
     "metadata": {},
     "execution_count": 511
    }
   ],
   "source": [
    "df['Wearing_Hat'].value_counts()"
   ]
  },
  {
   "cell_type": "code",
   "execution_count": 512,
   "metadata": {},
   "outputs": [],
   "source": [
    "protected_labels = [0, 0, 0, 0, 0, 1, 1, 1, 1, 1]\n",
    "labels = [0, 0, 0, 0, 0, 1, 1, 1, 1, 1]\n",
    "predictions = [0, 0, 0, 0, 0, 1, 1, 1, 1, 1]\n",
    "\n",
    "all_three = [protected_labels, labels, predictions]\n",
    "\n",
    "female_predict_labels = []\n",
    "female_correct_labels = []\n",
    "\n",
    "for count, i in enumerate(protected_labels):\n",
    "    if i == 0:\n",
    "        female_predict_labels.append(predictions[count])\n",
    "        female_correct_labels.append(labels[count])\n",
    "        "
   ]
  },
  {
   "cell_type": "code",
   "execution_count": 513,
   "metadata": {},
   "outputs": [
    {
     "output_type": "execute_result",
     "data": {
      "text/plain": [
       "True"
      ]
     },
     "metadata": {},
     "execution_count": 513
    }
   ],
   "source": [
    "protected_labels == labels"
   ]
  },
  {
   "cell_type": "code",
   "execution_count": null,
   "metadata": {},
   "outputs": [],
   "source": []
  },
  {
   "cell_type": "code",
   "execution_count": null,
   "metadata": {},
   "outputs": [],
   "source": []
  }
 ],
 "metadata": {
  "kernelspec": {
   "name": "python3",
   "display_name": "Python 3.7.9 64-bit ('base': conda)"
  },
  "language_info": {
   "codemirror_mode": {
    "name": "ipython",
    "version": 3
   },
   "file_extension": ".py",
   "mimetype": "text/x-python",
   "name": "python",
   "nbconvert_exporter": "python",
   "pygments_lexer": "ipython3",
   "version": "3.7.9"
  },
  "interpreter": {
   "hash": "5c07cef64d8d6665e9e6d939f4bfba327130c7afd9b010ba23cb308428aedf51"
  }
 },
 "nbformat": 4,
 "nbformat_minor": 4
}