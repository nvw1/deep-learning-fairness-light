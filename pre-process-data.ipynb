{
 "cells": [
  {
   "cell_type": "code",
   "execution_count": 1,
   "metadata": {},
   "outputs": [],
   "source": [
    "import pandas as pd\n",
    "import numpy as np\n",
    "from sklearn.utils import resample\n",
    "\n",
    "SEED = 1234 #trace1"
   ]
  },
  {
   "cell_type": "code",
   "execution_count": 2,
   "metadata": {},
   "outputs": [
    {
     "output_type": "execute_result",
     "data": {
      "text/plain": [
       "     image_id  5_o_Clock_Shadow  Arched_Eyebrows  Attractive  Bags_Under_Eyes  \\\n",
       "0  000001.jpg                -1                1           1               -1   \n",
       "1  000002.jpg                -1               -1          -1                1   \n",
       "2  000003.jpg                -1               -1          -1               -1   \n",
       "3  000004.jpg                -1               -1           1               -1   \n",
       "4  000005.jpg                -1                1           1               -1   \n",
       "\n",
       "   Bald  Bangs  Big_Lips  Big_Nose  Black_Hair  ...  Sideburns  Smiling  \\\n",
       "0    -1     -1        -1        -1          -1  ...         -1        1   \n",
       "1    -1     -1        -1         1          -1  ...         -1        1   \n",
       "2    -1     -1         1        -1          -1  ...         -1       -1   \n",
       "3    -1     -1        -1        -1          -1  ...         -1       -1   \n",
       "4    -1     -1         1        -1          -1  ...         -1       -1   \n",
       "\n",
       "   Straight_Hair  Wavy_Hair  Wearing_Earrings  Wearing_Hat  Wearing_Lipstick  \\\n",
       "0              1         -1                 1           -1                 1   \n",
       "1             -1         -1                -1           -1                -1   \n",
       "2             -1          1                -1           -1                -1   \n",
       "3              1         -1                 1           -1                 1   \n",
       "4             -1         -1                -1           -1                 1   \n",
       "\n",
       "   Wearing_Necklace  Wearing_Necktie  Young  \n",
       "0                -1               -1      1  \n",
       "1                -1               -1      1  \n",
       "2                -1               -1      1  \n",
       "3                 1               -1      1  \n",
       "4                -1               -1      1  \n",
       "\n",
       "[5 rows x 41 columns]"
      ],
      "text/html": "<div>\n<style scoped>\n    .dataframe tbody tr th:only-of-type {\n        vertical-align: middle;\n    }\n\n    .dataframe tbody tr th {\n        vertical-align: top;\n    }\n\n    .dataframe thead th {\n        text-align: right;\n    }\n</style>\n<table border=\"1\" class=\"dataframe\">\n  <thead>\n    <tr style=\"text-align: right;\">\n      <th></th>\n      <th>image_id</th>\n      <th>5_o_Clock_Shadow</th>\n      <th>Arched_Eyebrows</th>\n      <th>Attractive</th>\n      <th>Bags_Under_Eyes</th>\n      <th>Bald</th>\n      <th>Bangs</th>\n      <th>Big_Lips</th>\n      <th>Big_Nose</th>\n      <th>Black_Hair</th>\n      <th>...</th>\n      <th>Sideburns</th>\n      <th>Smiling</th>\n      <th>Straight_Hair</th>\n      <th>Wavy_Hair</th>\n      <th>Wearing_Earrings</th>\n      <th>Wearing_Hat</th>\n      <th>Wearing_Lipstick</th>\n      <th>Wearing_Necklace</th>\n      <th>Wearing_Necktie</th>\n      <th>Young</th>\n    </tr>\n  </thead>\n  <tbody>\n    <tr>\n      <th>0</th>\n      <td>000001.jpg</td>\n      <td>-1</td>\n      <td>1</td>\n      <td>1</td>\n      <td>-1</td>\n      <td>-1</td>\n      <td>-1</td>\n      <td>-1</td>\n      <td>-1</td>\n      <td>-1</td>\n      <td>...</td>\n      <td>-1</td>\n      <td>1</td>\n      <td>1</td>\n      <td>-1</td>\n      <td>1</td>\n      <td>-1</td>\n      <td>1</td>\n      <td>-1</td>\n      <td>-1</td>\n      <td>1</td>\n    </tr>\n    <tr>\n      <th>1</th>\n      <td>000002.jpg</td>\n      <td>-1</td>\n      <td>-1</td>\n      <td>-1</td>\n      <td>1</td>\n      <td>-1</td>\n      <td>-1</td>\n      <td>-1</td>\n      <td>1</td>\n      <td>-1</td>\n      <td>...</td>\n      <td>-1</td>\n      <td>1</td>\n      <td>-1</td>\n      <td>-1</td>\n      <td>-1</td>\n      <td>-1</td>\n      <td>-1</td>\n      <td>-1</td>\n      <td>-1</td>\n      <td>1</td>\n    </tr>\n    <tr>\n      <th>2</th>\n      <td>000003.jpg</td>\n      <td>-1</td>\n      <td>-1</td>\n      <td>-1</td>\n      <td>-1</td>\n      <td>-1</td>\n      <td>-1</td>\n      <td>1</td>\n      <td>-1</td>\n      <td>-1</td>\n      <td>...</td>\n      <td>-1</td>\n      <td>-1</td>\n      <td>-1</td>\n      <td>1</td>\n      <td>-1</td>\n      <td>-1</td>\n      <td>-1</td>\n      <td>-1</td>\n      <td>-1</td>\n      <td>1</td>\n    </tr>\n    <tr>\n      <th>3</th>\n      <td>000004.jpg</td>\n      <td>-1</td>\n      <td>-1</td>\n      <td>1</td>\n      <td>-1</td>\n      <td>-1</td>\n      <td>-1</td>\n      <td>-1</td>\n      <td>-1</td>\n      <td>-1</td>\n      <td>...</td>\n      <td>-1</td>\n      <td>-1</td>\n      <td>1</td>\n      <td>-1</td>\n      <td>1</td>\n      <td>-1</td>\n      <td>1</td>\n      <td>1</td>\n      <td>-1</td>\n      <td>1</td>\n    </tr>\n    <tr>\n      <th>4</th>\n      <td>000005.jpg</td>\n      <td>-1</td>\n      <td>1</td>\n      <td>1</td>\n      <td>-1</td>\n      <td>-1</td>\n      <td>-1</td>\n      <td>1</td>\n      <td>-1</td>\n      <td>-1</td>\n      <td>...</td>\n      <td>-1</td>\n      <td>-1</td>\n      <td>-1</td>\n      <td>-1</td>\n      <td>-1</td>\n      <td>-1</td>\n      <td>1</td>\n      <td>-1</td>\n      <td>-1</td>\n      <td>1</td>\n    </tr>\n  </tbody>\n</table>\n<p>5 rows × 41 columns</p>\n</div>"
     },
     "metadata": {},
     "execution_count": 2
    }
   ],
   "source": [
    "#Show beginning of dataset EDIT to your folder\n",
    "df = pd.read_csv('/Users/nvw3/Downloads/celeba/list_attr_celeba.csv')\n",
    "df.head()"
   ]
  },
  {
   "cell_type": "code",
   "execution_count": 3,
   "metadata": {},
   "outputs": [
    {
     "output_type": "stream",
     "name": "stdout",
     "text": [
      "Length of smiling: 97669 (0.48208036564839907) \nLength of non-smiling: 104930 (0.5179196343516009) \n"
     ]
    }
   ],
   "source": [
    "df_smiling = df[df['Smiling'] == 1]\n",
    "df_non_smiling = df[df['Smiling'] == -1]\n",
    "print(f\"\"\"Length of smiling: {len(df_smiling)} ({len(df_smiling) / len(df)}) \n",
    "Length of non-smiling: {len(df_non_smiling)} ({len(df_non_smiling) / len(df)}) \"\"\")"
   ]
  },
  {
   "cell_type": "code",
   "execution_count": 4,
   "metadata": {},
   "outputs": [
    {
     "output_type": "stream",
     "name": "stdout",
     "text": [
      "Length of male: 84434 (0.41675427815537097) \nLength of female: 118165 (0.5832457218446291) \n"
     ]
    }
   ],
   "source": [
    "# Now need to generate indices with different levels of gender imbalance.\n",
    "df_male = df[df['Male'] == 1]\n",
    "df_female = df[df['Male'] == -1]\n",
    "print(f\"\"\"Length of male: {len(df_male)} ({len(df_male) / len(df)}) \n",
    "Length of female: {len(df_female)} ({len(df_female) / len(df)}) \"\"\")"
   ]
  },
  {
   "cell_type": "code",
   "execution_count": 5,
   "metadata": {},
   "outputs": [
    {
     "output_type": "stream",
     "name": "stdout",
     "text": [
      "male smile, female smile, male no smile,female no smile: 33798 63871 50636 54294\n"
     ]
    }
   ],
   "source": [
    "#Overview of subgroups in dataset.\n",
    "df_male_smiling = df[(df['Male'] == 1) & (df['Smiling'] == 1)]\n",
    "df_female_smiling = df[(df['Male'] == -1) & (df['Smiling'] == 1)]\n",
    "\n",
    "df_male_not_smiling = df[(df['Male'] == 1) & (df['Smiling'] == -1)]\n",
    "df_female_not_smiling = df[(df['Male'] == -1) & (df['Smiling'] == -1)]\n",
    "\n",
    "print(\"male smile, female smile, male no smile,female no smile:\",len(df_male_smiling),len(df_female_smiling),len(df_male_not_smiling),len(df_female_not_smiling))"
   ]
  },
  {
   "cell_type": "code",
   "execution_count": 9,
   "metadata": {},
   "outputs": [],
   "source": [
    "# Going to use a dataset of 30,000 images\n",
    "# 15,000 smiling, 15,000 non-smiling\n",
    "\n",
    "def rebalance_dataset(females, males, df):\n",
    "    df_male_smiling = df[(df['Male'] == 1) & (df['Smiling'] == 1)]\n",
    "    df_female_smiling = df[(df['Male'] == -1) & (df['Smiling'] == 1)]\n",
    "\n",
    "    df_male_not_smiling = df[(df['Male'] == 1) & (df['Smiling'] == -1)]\n",
    "    df_female_not_smiling = df[(df['Male'] == -1) & (df['Smiling'] == -1)]\n",
    "    \"\"\"\n",
    "    Splitting data and ensureing that each group has the same amount by picking half samples from           \n",
    "    each group. trace1\n",
    "    female: int: number of female samples to be used\n",
    "    male: int: no of male smaple to be used\n",
    "    df: numpy dataframe: dataframe to be altered and returned\n",
    "    \"\"\"\n",
    "    \n",
    "    if females > 0:\n",
    "        rebalance_df_female_smiling = resample(df_female_smiling,\n",
    "                                              replace=False,\n",
    "                                              n_samples=int(females/2),\n",
    "                                              random_state=SEED)\n",
    "        \n",
    "        rebalance_df_female_not_smiling = resample(df_female_not_smiling,\n",
    "                                                  replace=False,\n",
    "                                                  n_samples=int(females/2),\n",
    "                                                  random_state=SEED)\n",
    "    \n",
    "    if males > 0:\n",
    "        rebalance_df_male_smiling = resample(df_male_smiling,\n",
    "                                              replace=False,\n",
    "                                              n_samples=int(males/2),\n",
    "                                              random_state=SEED)\n",
    "        \n",
    "        rebalance_df_male_not_smiling = resample(df_male_not_smiling,\n",
    "                                                  replace=False,\n",
    "                                                  n_samples=int(males/2),\n",
    "                                                  random_state=SEED)\n",
    "    if females == 0:\n",
    "        rebalance_df = pd.concat([rebalance_df_male_smiling, rebalance_df_male_not_smiling])\n",
    "        return rebalance_df\n",
    "        \n",
    "    elif males == 0:\n",
    "        rebalance_df = pd.concat([rebalance_df_female_smiling, rebalance_df_female_not_smiling])\n",
    "        return rebalance_df\n",
    "        \n",
    "    else:\n",
    "        #Different types added in order trace1\n",
    "        rebalance_df = pd.concat([rebalance_df_male_smiling, rebalance_df_male_not_smiling,\n",
    "                                  rebalance_df_female_smiling, rebalance_df_female_not_smiling])\n",
    "        \n",
    "        return rebalance_df\n",
    "\n",
    "\n",
    "def test_rebalance(females, males, df):\n",
    "    \"\"\"\n",
    "    Testing that the rebalancing worked out fine.\n",
    "    \"\"\"\n",
    "    assert len(df[df['Male'] == -1]) == females\n",
    "    assert len(df[df['Male'] == 1]) == males\n",
    "    \n",
    "    assert len(df[df['Smiling'] == -1]) == 15000 # Stopped assertion for small dataset\n",
    "    assert len(df[df['Smiling'] == 1]) == 15000 # Checking its balanced\n",
    "    \n",
    "#EDIT the path up till celeba\n",
    "SAVE_FOLDER = '/Users/nvw3/Downloads/celeba/imbalanced_attr'\n",
    "\n",
    "\n",
    "#Multiple dataset splits\n",
    "total = 30000\n",
    "#Item being the\n",
    "femalePercentageList = [\n",
    "    1,\n",
    "    .999,\n",
    "    .99,\n",
    "    .98,\n",
    "    .96,\n",
    "    .95,\n",
    "    .94,\n",
    "    .92,\n",
    "    .9,\n",
    "    .85,\n",
    "    .8,\n",
    "    .7,\n",
    "    .5\n",
    "]\n",
    "\n",
    "# EDIT this file to be stored in desired location:\n",
    "SAVE_FOLDER = '/Users/nvw3/Downloads/celeba/imbalanced_attr'\n",
    "imbalance_label = 'test'\n",
    "\n",
    "#Create differently imbalanced CSV's nased on the Percentage List to be named in the yaml file.\n",
    "\n",
    "for imbalance in femalePercentageList:\n",
    "    f_samples = int(total*imbalance) #to int swap trace1\n",
    "    m_samples = int(total-f_samples)\n",
    "    imbalance_label = str(imbalance)\n",
    "    current_df = rebalance_dataset(females=f_samples, males=m_samples, df=df)\n",
    "    test_rebalance(females=f_samples, males=m_samples, df=current_df)\n",
    "    current_df.to_csv(SAVE_FOLDER+'/'+imbalance_label+'.csv', index=False)\n"
   ]
  }
 ],
 "metadata": {
  "kernelspec": {
   "name": "python3",
   "display_name": "Python 3.7.9 64-bit ('base': conda)"
  },
  "language_info": {
   "codemirror_mode": {
    "name": "ipython",
    "version": 3
   },
   "file_extension": ".py",
   "mimetype": "text/x-python",
   "name": "python",
   "nbconvert_exporter": "python",
   "pygments_lexer": "ipython3",
   "version": "3.7.9"
  },
  "interpreter": {
   "hash": "5c07cef64d8d6665e9e6d939f4bfba327130c7afd9b010ba23cb308428aedf51"
  }
 },
 "nbformat": 4,
 "nbformat_minor": 4
}